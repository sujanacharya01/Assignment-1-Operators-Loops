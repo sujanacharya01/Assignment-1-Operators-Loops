{
 "cells": [
  {
   "cell_type": "code",
   "execution_count": 5,
   "id": "c9a3a30b",
   "metadata": {},
   "outputs": [
    {
     "name": "stdout",
     "output_type": "stream",
     "text": [
      "Input a word to reverse: SUJAN\n",
      "NAJUS\n"
     ]
    }
   ],
   "source": [
    "# Write a Python program that accepts a word from the user and reverse it.\n",
    "\n",
    "\n",
    "\n",
    "# Sample Test Case\n",
    "\n",
    "\n",
    "\n",
    "# Input : Edyoda\n",
    "\n",
    "# output: adoydE\n",
    "\n",
    "word = input(\"Input a word to reverse: \")\n",
    " \n",
    "for character in range(len(word) - 1, -1, -1):\n",
    "  print(word[character], end=\"\")\n",
    "print()\n",
    "\n"
   ]
  },
  {
   "cell_type": "code",
   "execution_count": null,
   "id": "a71ba493",
   "metadata": {},
   "outputs": [],
   "source": []
  },
  {
   "cell_type": "code",
   "execution_count": null,
   "id": "c792ef56",
   "metadata": {},
   "outputs": [],
   "source": []
  }
 ],
 "metadata": {
  "kernelspec": {
   "display_name": "Python 3 (ipykernel)",
   "language": "python",
   "name": "python3"
  },
  "language_info": {
   "codemirror_mode": {
    "name": "ipython",
    "version": 3
   },
   "file_extension": ".py",
   "mimetype": "text/x-python",
   "name": "python",
   "nbconvert_exporter": "python",
   "pygments_lexer": "ipython3",
   "version": "3.10.2"
  }
 },
 "nbformat": 4,
 "nbformat_minor": 5
}
